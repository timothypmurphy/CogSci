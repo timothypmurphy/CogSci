{
 "cells": [
  {
   "cell_type": "markdown",
   "metadata": {},
   "source": [
    "# Question 5 - extra help\n",
    "For students struggling with question 5, here is come code that might help you get started. "
   ]
  },
  {
   "cell_type": "code",
   "execution_count": null,
   "metadata": {
    "collapsed": true
   },
   "outputs": [],
   "source": [
    "# first implement the cosine similarity function\n",
    "def cosine_sim(M1,M2):\n",
    "    # implement computation of cosine similarity between M1 and M2 here\n",
    "    similarity = #  fill in here\n",
    "    return similarity"
   ]
  },
  {
   "cell_type": "code",
   "execution_count": null,
   "metadata": {
    "collapsed": true
   },
   "outputs": [],
   "source": [
    "# Implement the exemplar-based categorisation model here. \n",
    "def exemplar_model(exemplar_matrix, target_matrix, words2categorise):    \n",
    "    # create a vector predictedCatIndices in which you save the predicted category index \n",
    "    predictedCatIndices = [] \n",
    "    \n",
    "    # for each item\n",
    "        # STEP 1:\n",
    "        # compute the cosine similarity between the new word’s vector representation \n",
    "        # and the vector representation of each known exemplar using the cosine_sim function\n",
    "    \n",
    "        # STEP 2: \n",
    "        # assign the new word the category of the exemplar that yielded the highest similarity score\n",
    "    \n",
    "    return predictedCatIndices"
   ]
  }
 ],
 "metadata": {
  "kernelspec": {
   "display_name": "Python 3",
   "language": "python",
   "name": "python3"
  },
  "language_info": {
   "codemirror_mode": {
    "name": "ipython",
    "version": 3
   },
   "file_extension": ".py",
   "mimetype": "text/x-python",
   "name": "python",
   "nbconvert_exporter": "python",
   "pygments_lexer": "ipython3",
   "version": "3.5.4"
  }
 },
 "nbformat": 4,
 "nbformat_minor": 2
}

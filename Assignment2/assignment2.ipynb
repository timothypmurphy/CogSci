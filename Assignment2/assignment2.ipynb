{
 "cells": [
  {
   "cell_type": "markdown",
   "metadata": {
    "deletable": false,
    "editable": false,
    "nbgrader": {
     "checksum": "51cce712a92f166673eb221d272cd9a2",
     "grade": false,
     "grade_id": "cell-061fcd340525d57c",
     "locked": true,
     "schema_version": 1,
     "solution": false
    }
   },
   "source": [
    "# Informatics 1 Cognitive Science (2017–2018)\n",
    "## Assignment 2: Clustering and Categorization\n",
    "\n",
    "------------------------\n",
    "\n",
    "## Answering questions\n",
    "The assignment notebooks include a combination of instructions, code that has been written for you to use, run, or examine, and questions you need to answer.\n",
    "\n",
    "### Code\n",
    "In every place where you need to write code you will see:\n",
    "\n",
    "    YOUR CODE HERE\n",
    "\n",
    "    raise NotImplementedError()\n",
    "\n",
    "or\n",
    "\n",
    "    YOUR CODE HERE\n",
    "\n",
    "Delete the raise NotImplementedError() (if applicable) and write your solution code inside the marked cell.\n",
    "\n",
    "### Text\n",
    "For questions that require you to write text the cell will say YOUR ANSWER HERE. Again delete that line if you want to answer the question and write your response in the marked cell.\n",
    "\n",
    "Most of the cells that already contained text or calculations will be read-only. You can open new cells for additional calculation or notes, however these cells will not be part of your submission and will not be considered for marking! Thus, make sure that all your solutions are contained in the marked cells.\n",
    "\n",
    "------------------------\n",
    "\n",
    "\n",
    "# Introduction\n",
    "\n",
    "In this task you will induce semantic categories for a set of words by clustering them into sets of semantically related words. You will cluster the words on the basis of their\n",
    "representations in a space of semantic features, applying **agglomerative hierarchical clustering**. We\n",
    "will use the [**linkage**](https://docs.scipy.org/doc/scipy-0.18.1/reference/generated/scipy.cluster.hierarchy.linkage.html#scipy.cluster.hierarchy.linkage) function from scikit-learn to do the clustering:\n",
    "\n",
    "$$\\mathbf{Z} = \\mathbf{linkage}(\\mathbf{X},\\mathbf{method},\\mathbf{metric})$$\n",
    "\n",
    "The function performs agglomerative hierarchical clustering of the rows of matrix **X**\n",
    "and returns tree **Z** encoding a dendrogram of the resulting hierarchical clusters. \n",
    "The argument **method** describes the clustering criterion, i.e., how to measure the distance\n",
    "between clusters. \n",
    "\n",
    "In the lectures, we discussed three different clustering criteria:\n",
    "\n",
    "- **single-linkage**, (called 'single' in scikit-learn)\n",
    "- **complete-linkage**, ('complete')\n",
    "- **group average**, ('average')\n",
    "The argument **metric** specifies the function that will be used to compute distances between the rows of **X**. We will use cosine distance (via the argument 'cosine')[(*1)](#References).\n",
    "\n",
    "## A simple example\n",
    "Let's first go through an example to show what you'll need to know for task 1. "
   ]
  },
  {
   "cell_type": "code",
   "execution_count": 3,
   "metadata": {
    "collapsed": true
   },
   "outputs": [],
   "source": [
    "# import numpy, the python scientific package\n",
    "import numpy as np\n",
    "\n",
    "# import maplotlib to plot the visualizations\n",
    "from matplotlib import pyplot as plt\n",
    "#this is to output the plots in the notebook\n",
    "%matplotlib inline"
   ]
  },
  {
   "cell_type": "code",
   "execution_count": 4,
   "metadata": {},
   "outputs": [
    {
     "name": "stdout",
     "output_type": "stream",
     "text": [
      "[[ 1  2  3]\n",
      " [ 1  2  5]\n",
      " [ 7  1 -5]\n",
      " [ 3  4  6]]\n"
     ]
    }
   ],
   "source": [
    "'''\n",
    "Assume we are given matrix contains features for four letters. \n",
    "Each letter's features are a row in the matrix A. \n",
    "\n",
    "In this case, the features are made up and don't have any particular\n",
    "interpretation.\n",
    "'''\n",
    "\n",
    "A = np.matrix([[1,2,3],[1,2,5],[7,1,-5],[3,4,6]])\n",
    "print(A)"
   ]
  },
  {
   "cell_type": "code",
   "execution_count": 5,
   "metadata": {},
   "outputs": [
    {
     "name": "stdout",
     "output_type": "stream",
     "text": [
      "['a', 'o', 'k', 'e']\n"
     ]
    }
   ],
   "source": [
    "# The letters are defined in:\n",
    "letters = ['a','o','k','e']\n",
    "print(letters)"
   ]
  },
  {
   "cell_type": "markdown",
   "metadata": {
    "deletable": false,
    "editable": false,
    "nbgrader": {
     "checksum": "c7d2e14f0e6d1c8d3f3391997c060fac",
     "grade": false,
     "grade_id": "cell-fe8057f5288c71cd",
     "locked": true,
     "schema_version": 1,
     "solution": false
    }
   },
   "source": [
    "We'll now do hierarchical clustering on the data using the single-linkage criterion.\n"
   ]
  },
  {
   "cell_type": "code",
   "execution_count": 6,
   "metadata": {
    "collapsed": true
   },
   "outputs": [],
   "source": [
    "# First, import the linkage function from scipy library\n",
    "from scipy.cluster.hierarchy import linkage\n",
    "\n",
    "'''\n",
    "Now, we use the linkage function on the feature matrix A,\n",
    "with our chosen criterion and distance function: \n",
    "'''\n",
    "\n",
    "TreeA = linkage(A,'single','cosine')"
   ]
  },
  {
   "cell_type": "markdown",
   "metadata": {
    "deletable": false,
    "editable": false,
    "nbgrader": {
     "checksum": "0bc5d8b4e3d6c39471d8a0297d5c3f00",
     "grade": false,
     "grade_id": "cell-afe6d9b9731b808d",
     "locked": true,
     "schema_version": 1,
     "solution": false
    }
   },
   "source": [
    "Now we have two options to further inspect the clustering. \n",
    "\n",
    "### Visualising dendograms\n",
    "\n",
    "The first option is to view the corresponding dendrogram. Try it out and make sure you understand how to read it."
   ]
  },
  {
   "cell_type": "code",
   "execution_count": 7,
   "metadata": {},
   "outputs": [
    {
     "data": {
      "image/png": "[encoded data removed]",
      "text/plain": [
       "<matplotlib.figure.Figure at 0x1fe60820390>"
      ]
     },
     "metadata": {},
     "output_type": "display_data"
    }
   ],
   "source": [
    "# import the dendrogram function from scipy\n",
    "from scipy.cluster.hierarchy import dendrogram\n",
    "\n",
    "dendrogram(TreeA, labels=letters, orientation= 'top');"
   ]
  },
  {
   "cell_type": "markdown",
   "metadata": {
    "deletable": false,
    "editable": false,
    "nbgrader": {
     "checksum": "6da88e98af4443e769c44254b7a7d275",
     "grade": false,
     "grade_id": "cell-aa26dd6edeb5a2e3",
     "locked": true,
     "schema_version": 1,
     "solution": false
    }
   },
   "source": [
    "### Working with clusters\n",
    "The second option is to obtain the clusters at a certain height in the tree. This is done with the function **fcluster**, where we have to specify the maximum number **t** of the resulting clusters.\n",
    "\n",
    "The function returns a column vector **clustering** of size 4, where row i contains the cluster assignment of row (item) i of matrix A. \n",
    "\n",
    "Try it out with an increasing number of maximum clusters, starting with t=1. "
   ]
  },
  {
   "cell_type": "code",
   "execution_count": 8,
   "metadata": {
    "collapsed": true
   },
   "outputs": [],
   "source": [
    "# import the flat cluster function from scipy\n",
    "from scipy.cluster.hierarchy import fcluster"
   ]
  },
  {
   "cell_type": "code",
   "execution_count": 333,
   "metadata": {
    "collapsed": true
   },
   "outputs": [],
   "source": [
    "clustering = fcluster(TreeA,t=5, criterion= 'maxclust')"
   ]
  },
  {
   "cell_type": "code",
   "execution_count": 334,
   "metadata": {},
   "outputs": [
    {
     "name": "stdout",
     "output_type": "stream",
     "text": [
      "a : 1\n",
      "o : 1\n",
      "k : 2\n",
      "e : 1\n"
     ]
    }
   ],
   "source": [
    "for letter, cluster in zip(letters, clustering):\n",
    "    print (letter,':', cluster)"
   ]
  },
  {
   "cell_type": "markdown",
   "metadata": {
    "deletable": false,
    "editable": false,
    "nbgrader": {
     "checksum": "c16259c177b030b2ac65dd8503cd2ccd",
     "grade": false,
     "grade_id": "cell-e2bfcb0b6d103eb7",
     "locked": true,
     "schema_version": 1,
     "solution": false
    }
   },
   "source": [
    "Compare it with the dendrogram of your clustering and discuss briefly."
   ]
  },
  {
   "cell_type": "markdown",
   "metadata": {
    "deletable": false,
    "nbgrader": {
     "checksum": "908fa5260f98879c3d60ee810d4c377a",
     "grade": true,
     "grade_id": "cell-4818a00062959209",
     "locked": false,
     "points": 2,
     "schema_version": 1,
     "solution": true
    }
   },
   "source": [
    ">The cluster matches the dendrogram with k being in its own cluster and the other three letters being in another cluster"
   ]
  },
  {
   "cell_type": "markdown",
   "metadata": {
    "deletable": false,
    "editable": false,
    "nbgrader": {
     "checksum": "0fdade14ae7e1e228ba4630762ad8ab0",
     "grade": false,
     "grade_id": "cell-8e8ef39140f02f4c",
     "locked": true,
     "schema_version": 1,
     "solution": false
    }
   },
   "source": [
    "## Loading the data\n",
    "\n",
    "For our task, you will use the data relating to Task 1. Let's load the files we'll need to the notebook."
   ]
  },
  {
   "cell_type": "code",
   "execution_count": 11,
   "metadata": {
    "collapsed": true
   },
   "outputs": [],
   "source": [
    "''' First, we import the pandas [pandas.pydata.org] library,a useful package for data analysis. \n",
    "If you don't have conda installed, type: \n",
    "\"conda install pandas\" \n",
    "in the terminal in your cogsci environment. \n",
    "'''\n",
    "import pandas as pd \n",
    "\n",
    "# edit the pandas display options\n",
    "pd.set_option('display.max_columns', 12)"
   ]
  },
  {
   "cell_type": "code",
   "execution_count": 12,
   "metadata": {
    "collapsed": true
   },
   "outputs": [],
   "source": [
    "# then we import the different files relating to Task 1\n",
    "words1 = pd.read_csv(\"./words1.csv\", index_col=0).values.flatten()\n",
    "feats_mcrae = pd.read_csv(\"./feats_mcrae.csv\", index_col=0).values.flatten()\n",
    "\n",
    "matrix1_mcrae = pd.read_csv(\"./matrix1_mcrae.csv\", index_col=0).as_matrix()\n",
    "matrix1_bnc = pd.read_csv(\"./matrix1_bnc.csv\", index_col=0).as_matrix()"
   ]
  },
  {
   "cell_type": "markdown",
   "metadata": {
    "deletable": false,
    "editable": false,
    "nbgrader": {
     "checksum": "d3fd275bdb2523dbb92d6072c69b4dd5",
     "grade": false,
     "grade_id": "cell-2ada6335b3a4147a",
     "locked": true,
     "schema_version": 1,
     "solution": false
    }
   },
   "source": [
    "### About the data\n",
    "You've just loaded the words we want to cluster, in **words1**. These are the the 44 most frequently-occurring content words in the British National Corpus [(BNC)[1]](#References). You can see what each word is (e.g., banana, boat) by printing the **words1** matrix. \n",
    "\n",
    "You have also loaded two matrices of features: **matrix1_mcrae** and **matrix1_bnc**\n",
    "\n",
    "Each of the two matrices represents a different set of features for the words in **words1**.\n",
    "\n",
    "**matrix1 bnc** is a 44×2497 matrix where each row contains features for the corresponding word in **words1**. The features are the number of times a target word co-occurs with a context word in the BNC, using a context window of ± 5 words. \n",
    "\n",
    "**matrix1_mcrae** is a 44 × 2526 matrix where each row contains features for the corresponding word in **words1**. The  features are based on judgments by humans in a \"norming\" study conducted by [McRae et al. [2]](#References). \n",
    "\n",
    "The list of features can be seen in **feats_mcrae**. To do this, you can print **feats_mcrae** in the cell below. Notice that there are many features, so they won't print all at once. Remember that you can print specific entries in a matrix using notation like `feats_mcrae[200:240]` -- that will product the 200th through the 240th features in the McRae corpus.\n",
    "\n",
    "Each matrix cell in **matrix1_mcrae** corresponds to the number of humans that listed a feature for a given target word. (You have already worked with McRae et al.’s data in assignment 1)."
   ]
  },
  {
   "cell_type": "markdown",
   "metadata": {
    "deletable": false,
    "editable": false,
    "nbgrader": {
     "checksum": "c3d0e8ca9fac97ae1b7d5d9e97af22f3",
     "grade": false,
     "grade_id": "cell-2bd0974fdbd50878",
     "locked": true,
     "schema_version": 1,
     "solution": false
    }
   },
   "source": [
    "Start by inspecting the data (e.g. using the print() command) and make sure you understand what each file contains."
   ]
  },
  {
   "cell_type": "code",
   "execution_count": 13,
   "metadata": {
    "deletable": false,
    "nbgrader": {
     "checksum": "87abfa2be71677d1adba82dc84d11d65",
     "grade": true,
     "grade_id": "cell-6bc6f624dc7ad67f",
     "locked": false,
     "points": 0,
     "schema_version": 1,
     "solution": true
    }
   },
   "outputs": [
    {
     "name": "stdout",
     "output_type": "stream",
     "text": [
      "['banana' 'boat' 'bottle' 'bowl' 'car' 'cat' 'cherry' 'chicken' 'chisel'\n",
      " 'corn' 'cow' 'cup' 'dog' 'duck' 'eagle' 'elephant' 'hammer' 'helicopter'\n",
      " 'kettle' 'knife' 'lettuce' 'lion' 'motorcycle' 'mushroom' 'onion' 'owl'\n",
      " 'peacock' 'pear' 'pen' 'pencil' 'penguin' 'pig' 'pineapple' 'potato'\n",
      " 'rocket' 'scissors' 'screwdriver' 'ship' 'snail' 'spoon' 'swan'\n",
      " 'telephone' 'truck' 'turtle']\n",
      "['associated_with_the_house_of_god' 'associated_with_training'\n",
      " 'associated_with_vampires' 'associated_with_winning'\n",
      " 'associated_with_winter' 'associated_with_witches' 'becomes_a_butterfly'\n",
      " 'beh_-_bahs' 'beh_-_bark_peals_off' 'beh_-_barks' 'beh_-_bites'\n",
      " 'beh_-_branches_droop_down' 'beh_-_breathes' 'beh_-_builds_dams'\n",
      " 'beh_-_builds_nests' 'beh_-_burrows' 'beh_-_buzzes' 'beh_-_cannot_fly'\n",
      " 'beh_-_caws' 'beh_-_chases' 'beh_-_chases_cats' 'beh_-_chews_on_wood'\n",
      " 'beh_-_chirps' 'beh_-_climbs' 'beh_-_climbs_trees' 'beh_-_clucks'\n",
      " 'beh_-_cocoons' 'beh_-_communicates' 'beh_-_coos' 'beh_-_crawls'\n",
      " 'beh_-_croaks' 'beh_-_crows' 'beh_-_cuts_down_trees' 'beh_-_digs_holes'\n",
      " 'beh_-_does_tricks' 'beh_-_drinks' 'beh_-_drinks_water' 'beh_-_eats'\n",
      " 'beh_-_eats_animals' 'beh_-_eats_anything']\n",
      "[[0 0 0 ..., 0 0 0]\n",
      " [0 0 0 ..., 0 0 0]\n",
      " [0 0 0 ..., 0 0 0]\n",
      " ..., \n",
      " [0 0 0 ..., 0 0 0]\n",
      " [0 0 0 ..., 0 0 0]\n",
      " [0 0 0 ..., 0 0 0]]\n",
      "[[  3   4   9 ...,   0   0   0]\n",
      " [ 95  68  50 ...,   0   0   0]\n",
      " [ 49  35  70 ...,   0   0   0]\n",
      " ..., \n",
      " [130  57  62 ...,   0   0   0]\n",
      " [ 13  10   8 ...,   0   0   0]\n",
      " [  3   5   5 ...,   0   0   0]]\n"
     ]
    }
   ],
   "source": [
    "print(words1)\n",
    "print(feats_mcrae[200:240])\n",
    "print(matrix1_mcrae)\n",
    "print(matrix1_bnc)"
   ]
  },
  {
   "cell_type": "markdown",
   "metadata": {
    "deletable": false,
    "editable": false,
    "nbgrader": {
     "checksum": "a7ef85728f2b14b8cc614be336f76d96",
     "grade": false,
     "grade_id": "cell-1e202c32d5710e27",
     "locked": true,
     "schema_version": 1,
     "solution": false
    }
   },
   "source": [
    "# Task 1: Semantic Categories\n",
    "\n",
    "## Question 1 (15%): \n",
    "a) Cluster the target words on the basis of the vector representations obtained from the BNC. \n",
    "Do this by using all three clustering criteria (single-linkage, complete-linkage, and average-linkage). \n",
    "Show the dendrogram output for each criterion. Make sure the plots are readable. You can use multiple cells to plot each tree."
   ]
  },
  {
   "cell_type": "code",
   "execution_count": 21,
   "metadata": {
    "deletable": false,
    "nbgrader": {
     "checksum": "c60bacbd6610ef55b53d1a2da4824402",
     "grade": true,
     "grade_id": "cell-5b4022a13dab3205",
     "locked": false,
     "points": 5,
     "schema_version": 1,
     "solution": true
    },
    "scrolled": false
   },
   "outputs": [
    {
     "name": "stdout",
     "output_type": "stream",
     "text": [
      "           Word  cluster\n",
      "0        banana        8\n",
      "1          boat       17\n",
      "2        bottle       12\n",
      "3          bowl       10\n",
      "4           car       20\n",
      "5           cat       15\n",
      "6        cherry       27\n",
      "7       chicken        4\n",
      "8        chisel       33\n",
      "9          corn       42\n",
      "10          cow       24\n",
      "11          cup       37\n",
      "12          dog       15\n",
      "13         duck        2\n",
      "14        eagle       34\n",
      "15     elephant       23\n",
      "16       hammer       26\n",
      "17   helicopter       19\n",
      "18       kettle       11\n",
      "19        knife       28\n",
      "20      lettuce       14\n",
      "21         lion       30\n",
      "22   motorcycle       22\n",
      "23     mushroom        6\n",
      "24        onion        7\n",
      "25          owl       38\n",
      "26      peacock       40\n",
      "27         pear        9\n",
      "28          pen        1\n",
      "29       pencil        1\n",
      "30      penguin       41\n",
      "31          pig       16\n",
      "32    pineapple       25\n",
      "33       potato        5\n",
      "34       rocket       29\n",
      "35     scissors       32\n",
      "36  screwdriver       31\n",
      "37         ship       18\n",
      "38        snail       39\n",
      "39        spoon       13\n",
      "40         swan        3\n",
      "41    telephone       36\n",
      "42        truck       21\n",
      "43       turtle       35\n"
     ]
    },
    {
     "data": {
      "image/png": "[encoded data removed]",
      "text/plain": [
       "<matplotlib.figure.Figure at 0x1fe63e0dbe0>"
      ]
     },
     "metadata": {},
     "output_type": "display_data"
    }
   ],
   "source": [
    "plt.subplots(figsize=(20,20))\n",
    "plt.title(\"INSERT\")\n",
    "x = linkage(matrix1_bnc, method='single', metric='cosine')\n",
    "cluster = fcluster(x, t=1000, criterion='maxclust')\n",
    "cluster_output = pd.DataFrame({'Word':words1.tolist() , 'cluster':cluster})\n",
    "print(cluster_output)\n",
    "dendrogram(x, labels=words1, orientation= 'right');"
   ]
  },
  {
   "cell_type": "code",
   "execution_count": 22,
   "metadata": {
    "scrolled": false
   },
   "outputs": [
    {
     "name": "stdout",
     "output_type": "stream",
     "text": [
      "           Word  cluster\n",
      "0        banana        8\n",
      "1          boat        3\n",
      "2        bottle       27\n",
      "3          bowl       23\n",
      "4           car        1\n",
      "5           cat       37\n",
      "6        cherry       10\n",
      "7       chicken       11\n",
      "8        chisel       20\n",
      "9          corn       29\n",
      "10          cow       28\n",
      "11          cup       25\n",
      "12          dog       37\n",
      "13         duck       35\n",
      "14        eagle       32\n",
      "15     elephant       39\n",
      "16       hammer       18\n",
      "17   helicopter        5\n",
      "18       kettle       24\n",
      "19        knife       19\n",
      "20      lettuce       15\n",
      "21         lion       33\n",
      "22   motorcycle        7\n",
      "23     mushroom       13\n",
      "24        onion       14\n",
      "25          owl       40\n",
      "26      peacock       34\n",
      "27         pear        9\n",
      "28          pen       17\n",
      "29       pencil       17\n",
      "30      penguin       42\n",
      "31          pig       38\n",
      "32    pineapple       16\n",
      "33       potato       12\n",
      "34       rocket        6\n",
      "35     scissors       22\n",
      "36  screwdriver       21\n",
      "37         ship        4\n",
      "38        snail       30\n",
      "39        spoon       26\n",
      "40         swan       36\n",
      "41    telephone       41\n",
      "42        truck        2\n",
      "43       turtle       31\n"
     ]
    },
    {
     "data": {
      "image/png": "[encoded data removed]",
      "text/plain": [
       "<matplotlib.figure.Figure at 0x1fe631a4588>"
      ]
     },
     "metadata": {},
     "output_type": "display_data"
    }
   ],
   "source": [
    "plt.subplots(figsize=(20,20))\n",
    "plt.title(\"INSERT\")\n",
    "y = linkage(matrix1_bnc, method='complete', metric='cosine')\n",
    "cluster = fcluster(y, t=1000, criterion='maxclust')\n",
    "cluster_output = pd.DataFrame({'Word':words1.tolist() , 'cluster':cluster})\n",
    "print(cluster_output)\n",
    "dendrogram(y, labels=words1, orientation= 'right');"
   ]
  },
  {
   "cell_type": "code",
   "execution_count": 23,
   "metadata": {
    "scrolled": false
   },
   "outputs": [
    {
     "name": "stdout",
     "output_type": "stream",
     "text": [
      "           Word  cluster\n",
      "0        banana        1\n",
      "1          boat       24\n",
      "2        bottle        6\n",
      "3          bowl        4\n",
      "4           car       22\n",
      "5           cat       30\n",
      "6        cherry        3\n",
      "7       chicken        8\n",
      "8        chisel       21\n",
      "9          corn       40\n",
      "10          cow       38\n",
      "11          cup       39\n",
      "12          dog       30\n",
      "13         duck       28\n",
      "14        eagle       33\n",
      "15     elephant       32\n",
      "16       hammer       18\n",
      "17   helicopter       26\n",
      "18       kettle        5\n",
      "19        knife       19\n",
      "20      lettuce       12\n",
      "21         lion       34\n",
      "22   motorcycle       41\n",
      "23     mushroom       10\n",
      "24        onion       11\n",
      "25          owl       37\n",
      "26      peacock       36\n",
      "27         pear        2\n",
      "28          pen       17\n",
      "29       pencil       17\n",
      "30      penguin       16\n",
      "31          pig       31\n",
      "32    pineapple       13\n",
      "33       potato        9\n",
      "34       rocket       27\n",
      "35     scissors       42\n",
      "36  screwdriver       20\n",
      "37         ship       25\n",
      "38        snail       14\n",
      "39        spoon        7\n",
      "40         swan       29\n",
      "41    telephone       35\n",
      "42        truck       23\n",
      "43       turtle       15\n"
     ]
    },
    {
     "data": {
      "image/png": "[encoded data removed]",
      "text/plain": [
       "<matplotlib.figure.Figure at 0x1fe61128748>"
      ]
     },
     "metadata": {},
     "output_type": "display_data"
    }
   ],
   "source": [
    "plt.subplots(figsize=(20,20))\n",
    "plt.title(\"INSERT\")\n",
    "z = linkage(matrix1_bnc, method='average', metric='cosine')\n",
    "cluster = fcluster(z, t=1000, criterion='maxclust')\n",
    "cluster_output = pd.DataFrame({'Word':words1.tolist() , 'cluster':cluster})\n",
    "print(cluster_output)\n",
    "dendrogram(z, labels=words1, orientation= 'right');"
   ]
  },
  {
   "cell_type": "markdown",
   "metadata": {
    "deletable": false,
    "nbgrader": {
     "checksum": "0e32e9506ae48a1b2a1c2f0da174cce0",
     "grade": true,
     "grade_id": "cell-5d7846860f93b4cc",
     "locked": false,
     "points": 5,
     "schema_version": 1,
     "solution": true
    }
   },
   "source": [
    ">Not sure if a question was missing here"
   ]
  },
  {
   "cell_type": "markdown",
   "metadata": {
    "deletable": false,
    "editable": false,
    "nbgrader": {
     "checksum": "65a22d4586588b65d374085c5cd8fa24",
     "grade": false,
     "grade_id": "cell-fbd2ac66a3656b15",
     "locked": true,
     "schema_version": 1,
     "solution": false
    }
   },
   "source": [
    "b) Which criterion do you think gives the most reasonable clusterings? Explain the differences between the criteria in your own words, and interpret their differences in clustering."
   ]
  },
  {
   "cell_type": "markdown",
   "metadata": {
    "deletable": false,
    "nbgrader": {
     "checksum": "d9606237eba4e2b3bdc2108c4c83fde0",
     "grade": true,
     "grade_id": "cell-10fdea0d165fb41e",
     "locked": false,
     "points": 5,
     "schema_version": 1,
     "solution": true
    }
   },
   "source": [
    ">The average clustering appears to give the most reasonable clustering as the words are grouped logically, for example, in groups of animals and vehicles. Single-linkage finds the words that create the smallest distance between clusters and uses those to link the two clusters. Complete-linkage finds the largest distance between words in a cluster and uses those two words to link the clusters together. Average-linkage calculates an average of the words in a cluster. Single-linkage has a very large number of clusters, complete-linkage has the smallest number of clusters and average has a number of clusters between the other two."
   ]
  },
  {
   "cell_type": "markdown",
   "metadata": {
    "deletable": false,
    "editable": false,
    "nbgrader": {
     "checksum": "3825a40cc4e08c53c126dbe21a8dbdc6",
     "grade": false,
     "grade_id": "cell-62706359375074c0",
     "locked": true,
     "schema_version": 1,
     "solution": false
    }
   },
   "source": [
    "## Question 2 (10%) :  \n",
    "a) Cluster the target words again, but this time on the basis of the vector representations obtained from McRae et al.’s data. Again, perform the clustering for all three criteria and answer questions (a)–(b) above. "
   ]
  },
  {
   "cell_type": "code",
   "execution_count": 207,
   "metadata": {
    "deletable": false,
    "nbgrader": {
     "checksum": "3d6223108574165fdfc2964690e4f961",
     "grade": true,
     "grade_id": "cell-b2e0ba10153d02c7",
     "locked": false,
     "points": 5,
     "schema_version": 1,
     "solution": true
    },
    "scrolled": false
   },
   "outputs": [
    {
     "name": "stdout",
     "output_type": "stream",
     "text": [
      "           Word  cluster\n",
      "0        banana        3\n",
      "1          boat       29\n",
      "2        bottle        1\n",
      "3          bowl       35\n",
      "4           car       25\n",
      "5           cat       23\n",
      "6        cherry        6\n",
      "7       chicken       13\n",
      "8        chisel       34\n",
      "9          corn        5\n",
      "10          cow       22\n",
      "11          cup        2\n",
      "12          dog       23\n",
      "13         duck       16\n",
      "14        eagle       15\n",
      "15     elephant       20\n",
      "16       hammer       32\n",
      "17   helicopter       38\n",
      "18       kettle       40\n",
      "19        knife       30\n",
      "20      lettuce        7\n",
      "21         lion       21\n",
      "22   motorcycle       27\n",
      "23     mushroom        8\n",
      "24        onion        9\n",
      "25          owl       17\n",
      "26      peacock       14\n",
      "27         pear        3\n",
      "28          pen       36\n",
      "29       pencil       41\n",
      "30      penguin       11\n",
      "31          pig       24\n",
      "32    pineapple        4\n",
      "33       potato       10\n",
      "34       rocket       39\n",
      "35     scissors       31\n",
      "36  screwdriver       33\n",
      "37         ship       28\n",
      "38        snail       18\n",
      "39        spoon       37\n",
      "40         swan       12\n",
      "41    telephone       42\n",
      "42        truck       26\n",
      "43       turtle       19\n"
     ]
    },
    {
     "data": {
      "image/png": "[encoded data removed]",
      "text/plain": [
       "<matplotlib.figure.Figure at 0x1fe63e48828>"
      ]
     },
     "metadata": {},
     "output_type": "display_data"
    }
   ],
   "source": [
    "plt.subplots(figsize=(20,20))\n",
    "plt.title(\"INSERT\")\n",
    "x = linkage(matrix1_mcrae, method='single', metric='cosine')\n",
    "cluster = fcluster(x, t=1000, criterion='maxclust')\n",
    "cluster_output = pd.DataFrame({'Word':words1.tolist() , 'cluster':cluster})\n",
    "print(cluster_output)\n",
    "dendrogram(x, labels=words1, orientation= 'right');"
   ]
  },
  {
   "cell_type": "code",
   "execution_count": 208,
   "metadata": {
    "scrolled": false
   },
   "outputs": [
    {
     "name": "stdout",
     "output_type": "stream",
     "text": [
      "           Word  cluster\n",
      "0        banana       35\n",
      "1          boat       27\n",
      "2        bottle        8\n",
      "3          bowl       10\n",
      "4           car        3\n",
      "5           cat       40\n",
      "6        cherry       37\n",
      "7       chicken       13\n",
      "8        chisel       26\n",
      "9          corn       34\n",
      "10          cow       42\n",
      "11          cup        9\n",
      "12          dog       40\n",
      "13         duck       19\n",
      "14        eagle       15\n",
      "15     elephant       38\n",
      "16       hammer       24\n",
      "17   helicopter        6\n",
      "18       kettle       20\n",
      "19        knife       22\n",
      "20      lettuce       30\n",
      "21         lion       39\n",
      "22   motorcycle        5\n",
      "23     mushroom       31\n",
      "24        onion       32\n",
      "25          owl       16\n",
      "26      peacock       14\n",
      "27         pear       35\n",
      "28          pen       11\n",
      "29       pencil       29\n",
      "30      penguin       17\n",
      "31          pig       41\n",
      "32    pineapple       36\n",
      "33       potato       33\n",
      "34       rocket        7\n",
      "35     scissors       23\n",
      "36  screwdriver       25\n",
      "37         ship       28\n",
      "38        snail        1\n",
      "39        spoon       21\n",
      "40         swan       18\n",
      "41    telephone       12\n",
      "42        truck        4\n",
      "43       turtle        2\n"
     ]
    },
    {
     "data": {
      "image/png": "[encoded data removed]",
      "text/plain": [
       "<matplotlib.figure.Figure at 0x1fe6115be10>"
      ]
     },
     "metadata": {},
     "output_type": "display_data"
    }
   ],
   "source": [
    "plt.subplots(figsize=(20,20))\n",
    "plt.title(\"INSERT\")\n",
    "y = linkage(matrix1_mcrae, method='complete', metric='cosine')\n",
    "cluster = fcluster(y, t=1000, criterion='maxclust')\n",
    "cluster_output = pd.DataFrame({'Word':words1.tolist() , 'cluster':cluster})\n",
    "print(cluster_output)\n",
    "dendrogram(y, labels=words1, orientation= 'right');"
   ]
  },
  {
   "cell_type": "code",
   "execution_count": 209,
   "metadata": {
    "scrolled": false
   },
   "outputs": [
    {
     "name": "stdout",
     "output_type": "stream",
     "text": [
      "           Word  cluster\n",
      "0        banana       15\n",
      "1          boat       27\n",
      "2        bottle       37\n",
      "3          bowl       39\n",
      "4           car       24\n",
      "5           cat       12\n",
      "6        cherry       17\n",
      "7       chicken        3\n",
      "8        chisel       35\n",
      "9          corn       22\n",
      "10          cow       14\n",
      "11          cup       38\n",
      "12          dog       12\n",
      "13         duck        9\n",
      "14        eagle        5\n",
      "15     elephant       10\n",
      "16       hammer       33\n",
      "17   helicopter       29\n",
      "18       kettle       36\n",
      "19        knife       31\n",
      "20      lettuce       18\n",
      "21         lion       11\n",
      "22   motorcycle       26\n",
      "23     mushroom       19\n",
      "24        onion       20\n",
      "25          owl        6\n",
      "26      peacock        4\n",
      "27         pear       15\n",
      "28          pen       40\n",
      "29       pencil       23\n",
      "30      penguin        7\n",
      "31          pig       13\n",
      "32    pineapple       16\n",
      "33       potato       21\n",
      "34       rocket       30\n",
      "35     scissors       32\n",
      "36  screwdriver       34\n",
      "37         ship       28\n",
      "38        snail        1\n",
      "39        spoon       41\n",
      "40         swan        8\n",
      "41    telephone       42\n",
      "42        truck       25\n",
      "43       turtle        2\n"
     ]
    },
    {
     "data": {
      "image/png": "[encoded data removed]",
      "text/plain": [
       "<matplotlib.figure.Figure at 0x1fe62f0ca90>"
      ]
     },
     "metadata": {},
     "output_type": "display_data"
    }
   ],
   "source": [
    "plt.subplots(figsize=(20,20))\n",
    "plt.title(\"INSERT\")\n",
    "z = linkage(matrix1_mcrae, method='average', metric='cosine')\n",
    "cluster = fcluster(z, t=1000, criterion='maxclust')\n",
    "cluster_output = pd.DataFrame({'Word':words1.tolist() , 'cluster':cluster})\n",
    "print(cluster_output)\n",
    "dendrogram(z, labels=words1, orientation= 'right');"
   ]
  },
  {
   "cell_type": "markdown",
   "metadata": {
    "deletable": false,
    "editable": false,
    "nbgrader": {
     "checksum": "f00ebcaf920cd3cbd813eddea7f21c61",
     "grade": false,
     "grade_id": "cell-9a7b87538bc766df",
     "locked": true,
     "schema_version": 1,
     "solution": false
    }
   },
   "source": [
    "b) Which criterion gives the most reasonable clusterings according to the words helicopter and bottle? "
   ]
  },
  {
   "cell_type": "markdown",
   "metadata": {
    "deletable": false,
    "nbgrader": {
     "checksum": "98d8dfa04c315332a835357ffc1f4498",
     "grade": true,
     "grade_id": "cell-3faa51800db9a0ed",
     "locked": false,
     "points": 5,
     "schema_version": 1,
     "solution": true
    }
   },
   "source": [
    ">For helicopter, the most reasonable clustering is complete as the word is paired with rocket, another air vehicle, and then that pair is linked to 'truck', 'car' and 'motorcycle', three other vehicles.\n",
    "\n",
    ">For bottle, the most reasonable clustering is average as bottle is clustered with 'cup' and that cluster is matched with 'pen', 'bowl' and 'spoon' which are mostly related"
   ]
  },
  {
   "cell_type": "markdown",
   "metadata": {
    "deletable": false,
    "editable": false,
    "nbgrader": {
     "checksum": "575ee37eaa7a4d7a58632c8fd68debd9",
     "grade": false,
     "grade_id": "cell-140eeb2c09f3bf7b",
     "locked": true,
     "schema_version": 1,
     "solution": false
    }
   },
   "source": [
    "## Question 3 (10%): \n",
    "a) How do the clusters obtained from the two vector representations (BNC and McRae) differ? Discuss which vector representations yields more intuitive and semantically coherent clusters, based on the clustering of the words helicopter and bottle. "
   ]
  },
  {
   "cell_type": "markdown",
   "metadata": {
    "deletable": false,
    "nbgrader": {
     "checksum": "b416c726908c79d266ffbc881a3ec8fc",
     "grade": true,
     "grade_id": "cell-95ac393329bc0a1c",
     "locked": false,
     "points": 5,
     "schema_version": 1,
     "solution": true
    }
   },
   "source": [
    ">For the clustering of 'helicopter' BNC is significantly better as it is paired with 'rocket' and then that cluster is matched with a cluster of other vehicles or clusters of animals. In McRae a cluster of 'helicopter' and 'rocket' is clustered with a group of cutlery or tools. In one of the cases in McRae the 'helicopter' was clustered with a few vehicles.\n",
    ">In the case of the word 'bottle' the clusterings are quite similar but I would argue that McRae is slightly better. In most cases 'bottle' is matched with 'cup' and then further clustered with cutlery and eating implements."
   ]
  },
  {
   "cell_type": "markdown",
   "metadata": {
    "deletable": false,
    "editable": false,
    "nbgrader": {
     "checksum": "3e900a658c7d602d8176d44c2fe02d00",
     "grade": false,
     "grade_id": "cell-75817bb09fdcf3b9",
     "locked": true,
     "schema_version": 1,
     "solution": false
    }
   },
   "source": [
    "b) What can you infer from the clustering with respect to the semantic category of chicken? Which representation (based on the BNC or McRae’sfeature norms) do you think yields a better clustering for it? \n"
   ]
  },
  {
   "cell_type": "markdown",
   "metadata": {
    "deletable": false,
    "nbgrader": {
     "checksum": "1dfe1ee7fb368a7bc1c65a5027ebcca9",
     "grade": true,
     "grade_id": "cell-9c1714e2cf25180b",
     "locked": false,
     "points": 5,
     "schema_version": 1,
     "solution": true
    }
   },
   "source": [
    ">For BNC 'chicken' is clustered with types of grown food while with McRae 'chicken' is grouped with other types of bird. I would say that McRae yields a better clustering as chicken fits better with birds as the food it is clustered with in BNC is all grown and not an animal."
   ]
  },
  {
   "cell_type": "markdown",
   "metadata": {
    "deletable": false,
    "editable": false,
    "nbgrader": {
     "checksum": "217fd0975c7ec9d10f7b684baeeb998b",
     "grade": false,
     "grade_id": "cell-e53992b55ad77b1a",
     "locked": true,
     "schema_version": 1,
     "solution": false
    }
   },
   "source": [
    "## Question 4 (10%) \n",
    "Finally, compare the clusterings you obtain for BNC and McRae vectors against the provided human-produced gold standard classifications.\n",
    "\n",
    "The gold standard classifications were obtained by presenting the words to human participants asking them to name the category to which each noun belonged. Participant responses were freeform strings, i.e., participants were not provided with a list of possible categories. After adjusting for differences in spelling and grouping together synonyms, these responses were used to determine the most “correct” category label for each of the  nouns.\n",
    "\n",
    "To make things easier, only look at the clusters obtained when setting the maximum number of clusters to 6 (which corresponds to the number of most fine-grained gold clusters). "
   ]
  },
  {
   "cell_type": "code",
   "execution_count": 36,
   "metadata": {
    "collapsed": true
   },
   "outputs": [],
   "source": [
    "# let's import the human classifications\n",
    "human_classification_names = pd.read_csv(\"./categories.txt\", index_col=0)"
   ]
  },
  {
   "cell_type": "code",
   "execution_count": 59,
   "metadata": {
    "deletable": false,
    "nbgrader": {
     "checksum": "939fe0ad44c5b96dc3e240aadd0bfe14",
     "grade": true,
     "grade_id": "cell-5b459ce14b4269cb",
     "locked": false,
     "points": 1,
     "schema_version": 1,
     "solution": true
    }
   },
   "outputs": [
    {
     "name": "stdout",
     "output_type": "stream",
     "text": [
      "           Word  average cluster  complete cluster  single cluster\n",
      "0        banana                1                 2               1\n",
      "1          boat                2                 1               1\n",
      "2        bottle                1                 5               1\n",
      "3          bowl                1                 4               1\n",
      "4           car                2                 1               1\n",
      "5           cat                2                 6               1\n",
      "6        cherry                1                 2               1\n",
      "7       chicken                1                 2               1\n",
      "8        chisel                2                 3               1\n",
      "9          corn                4                 5               6\n",
      "10          cow                2                 5               1\n",
      "11          cup                3                 4               1\n",
      "12          dog                2                 6               1\n",
      "13         duck                2                 6               1\n",
      "14        eagle                2                 6               1\n",
      "15     elephant                2                 6               1\n",
      "16       hammer                2                 3               1\n",
      "17   helicopter                2                 1               1\n",
      "18       kettle                1                 4               1\n",
      "19        knife                2                 3               1\n",
      "20      lettuce                1                 2               1\n",
      "21         lion                2                 6               1\n",
      "22   motorcycle                5                 1               1\n",
      "23     mushroom                1                 2               1\n",
      "24        onion                1                 2               1\n",
      "25          owl                2                 6               2\n",
      "26      peacock                2                 6               4\n",
      "27         pear                1                 2               1\n",
      "28          pen                2                 3               1\n",
      "29       pencil                2                 3               1\n",
      "30      penguin                2                 6               5\n",
      "31          pig                2                 6               1\n",
      "32    pineapple                1                 2               1\n",
      "33       potato                1                 2               1\n",
      "34       rocket                2                 1               1\n",
      "35     scissors                6                 3               1\n",
      "36  screwdriver                2                 3               1\n",
      "37         ship                2                 1               1\n",
      "38        snail                2                 6               3\n",
      "39        spoon                1                 4               1\n",
      "40         swan                2                 6               1\n",
      "41    telephone                2                 6               1\n",
      "42        truck                2                 1               1\n",
      "43       turtle                2                 6               1\n"
     ]
    }
   ],
   "source": [
    "# recompute BNC and McRae vector clusters using 6 as maximum number of clusters\n",
    "x = linkage(matrix1_bnc, method='single', metric='cosine')\n",
    "bncclusterx = fcluster(x, t=6, criterion='maxclust')\n",
    "\n",
    "y = linkage(matrix1_bnc, method='complete', metric='cosine')\n",
    "bncclustery = fcluster(y, t=6, criterion='maxclust')\n",
    "\n",
    "z = linkage(matrix1_bnc, method='average', metric='cosine')\n",
    "bncclusterz = fcluster(z, t=6, criterion='maxclust')\n",
    "\n",
    "cluster_output = pd.DataFrame({'Word':words1.tolist() , 'single cluster':bncclusterx, 'complete cluster':bncclustery, 'average cluster':bncclusterz})\n",
    "print(cluster_output)"
   ]
  },
  {
   "cell_type": "code",
   "execution_count": 60,
   "metadata": {},
   "outputs": [
    {
     "name": "stdout",
     "output_type": "stream",
     "text": [
      "           Word  average cluster  complete cluster  single cluster\n",
      "0        banana                2                 1               2\n",
      "1          boat                4                 1               3\n",
      "2        bottle                6                 1               1\n",
      "3          bowl                6                 1               3\n",
      "4           car                4                 1               3\n",
      "5           cat                1                 1               3\n",
      "6        cherry                2                 1               2\n",
      "7       chicken                1                 1               3\n",
      "8        chisel                5                 1               3\n",
      "9          corn                2                 1               2\n",
      "10          cow                1                 1               3\n",
      "11          cup                6                 1               1\n",
      "12          dog                1                 1               3\n",
      "13         duck                1                 1               3\n",
      "14        eagle                1                 1               3\n",
      "15     elephant                1                 1               3\n",
      "16       hammer                5                 1               3\n",
      "17   helicopter                5                 1               3\n",
      "18       kettle                5                 1               4\n",
      "19        knife                5                 1               3\n",
      "20      lettuce                2                 1               2\n",
      "21         lion                1                 1               3\n",
      "22   motorcycle                4                 1               3\n",
      "23     mushroom                2                 1               2\n",
      "24        onion                2                 1               2\n",
      "25          owl                1                 1               3\n",
      "26      peacock                1                 1               3\n",
      "27         pear                2                 1               2\n",
      "28          pen                6                 1               3\n",
      "29       pencil                3                 1               5\n",
      "30      penguin                1                 1               3\n",
      "31          pig                1                 1               3\n",
      "32    pineapple                2                 1               2\n",
      "33       potato                2                 1               2\n",
      "34       rocket                5                 1               3\n",
      "35     scissors                5                 1               3\n",
      "36  screwdriver                5                 1               3\n",
      "37         ship                4                 1               3\n",
      "38        snail                1                 1               3\n",
      "39        spoon                6                 1               3\n",
      "40         swan                1                 1               3\n",
      "41    telephone                6                 1               6\n",
      "42        truck                4                 1               3\n",
      "43       turtle                1                 1               3\n"
     ]
    }
   ],
   "source": [
    "x = linkage(matrix1_mcrae, method='single', metric='cosine')\n",
    "mcclusterx = fcluster(x, t=6, criterion='maxclust')\n",
    "\n",
    "y = linkage(matrix1_mcrae, method='complete', metric='cosine')\n",
    "mcclustery = fcluster(y, t=6, criterion='maxclust')\n",
    "\n",
    "z = linkage(matrix1_mcrae, method='average', metric='cosine')\n",
    "mcclusterz = fcluster(z, t=6, criterion='maxclust')\n",
    "\n",
    "cluster_output = pd.DataFrame({'Word':words1.tolist() , 'single cluster':mcclusterx, 'complete cluster':mcclustery, 'average cluster':mcclusterz})\n",
    "print(cluster_output)"
   ]
  },
  {
   "cell_type": "markdown",
   "metadata": {
    "deletable": false,
    "editable": false,
    "nbgrader": {
     "checksum": "a5ea5e47f28411839bf92dff2d15fcf2",
     "grade": false,
     "grade_id": "cell-cc4cbe90073c6189",
     "locked": true,
     "schema_version": 1,
     "solution": false
    }
   },
   "source": [
    "Compare the clusterings to the gold standard by inspecting the data. To do this, you can use the function \"print_clusters\" below to inspect the clusters. The function takes the vector of words and a vector of cluster indeces as input and prints the clusters together."
   ]
  },
  {
   "cell_type": "code",
   "execution_count": 94,
   "metadata": {
    "collapsed": true
   },
   "outputs": [],
   "source": [
    "def print_clusters(words_vector, cluster_indeces):\n",
    "    # iterate through categories\n",
    "    for category_index in range(1,7):\n",
    "        # iterate through all the classifications\n",
    "        for index, category in enumerate(cluster_indeces):\n",
    "            # if the word belongs to the current category (1-6), print it \n",
    "            if category == category_index:\n",
    "                print (words_vector[index])\n",
    "        print () "
   ]
  },
  {
   "cell_type": "code",
   "execution_count": 105,
   "metadata": {
    "collapsed": true
   },
   "outputs": [],
   "source": [
    "def print_clusters1(words_vector, cluster_indeces):\n",
    "    # iterate through categories\n",
    "    xy = np.array([])\n",
    "    \n",
    "    for category_index in range(1,7):\n",
    "        # iterate through all the classifications\n",
    "        for index, category in enumerate(cluster_indeces):\n",
    "            # if the word belongs to the current category (1-6), print it \n",
    "            if category == category_index:\n",
    "                xy = np.append(xy,words_vector[index])\n",
    "        xy = np.append(xy,\" \")\n",
    "        \n",
    "    return xy"
   ]
  },
  {
   "cell_type": "code",
   "execution_count": 112,
   "metadata": {
    "deletable": false,
    "nbgrader": {
     "checksum": "61091b49557b3130b4cdeff179694fa5",
     "grade": true,
     "grade_id": "cell-fe130a34b91a0e49",
     "locked": false,
     "points": 4,
     "schema_version": 1,
     "solution": true
    },
    "scrolled": false
   },
   "outputs": [
    {
     "name": "stdout",
     "output_type": "stream",
     "text": [
      "   average cluster complete cluster single cluster\n",
      "0           banana             boat         banana\n",
      "1           bottle              car           boat\n",
      "2             bowl       helicopter         bottle\n",
      "3           cherry       motorcycle           bowl\n",
      "4          chicken           rocket            car\n",
      "5           kettle             ship            cat\n",
      "6          lettuce            truck         cherry\n",
      "7         mushroom                         chicken\n",
      "8            onion           banana         chisel\n",
      "9             pear           cherry            cow\n",
      "10       pineapple          chicken            cup\n",
      "11          potato          lettuce            dog\n",
      "12           spoon         mushroom           duck\n",
      "13                            onion          eagle\n",
      "14            boat             pear       elephant\n",
      "15             car        pineapple         hammer\n",
      "16             cat           potato     helicopter\n",
      "17          chisel                          kettle\n",
      "18             cow           chisel          knife\n",
      "19             dog           hammer        lettuce\n",
      "20            duck            knife           lion\n",
      "21           eagle              pen     motorcycle\n",
      "22        elephant           pencil       mushroom\n",
      "23          hammer         scissors          onion\n",
      "24      helicopter      screwdriver           pear\n",
      "25           knife                             pen\n",
      "26            lion             bowl         pencil\n",
      "27             owl              cup            pig\n",
      "28         peacock           kettle      pineapple\n",
      "29             pen            spoon         potato\n",
      "30          pencil                          rocket\n",
      "31         penguin           bottle       scissors\n",
      "32             pig             corn    screwdriver\n",
      "33          rocket              cow           ship\n",
      "34     screwdriver                           spoon\n",
      "35            ship              cat           swan\n",
      "36           snail              dog      telephone\n",
      "37            swan             duck          truck\n",
      "38       telephone            eagle         turtle\n",
      "39           truck         elephant               \n",
      "40          turtle             lion            owl\n",
      "41                              owl               \n",
      "42             cup          peacock          snail\n",
      "43                          penguin               \n",
      "44            corn              pig        peacock\n",
      "45                            snail               \n",
      "46      motorcycle             swan        penguin\n",
      "47                        telephone               \n",
      "48        scissors           turtle           corn\n",
      "49                                                \n",
      "   average cluster complete cluster single cluster\n",
      "0              cat           banana         bottle\n",
      "1          chicken             boat            cup\n",
      "2              cow           bottle               \n",
      "3              dog             bowl         banana\n",
      "4             duck              car         cherry\n",
      "5            eagle              cat           corn\n",
      "6         elephant           cherry        lettuce\n",
      "7             lion          chicken       mushroom\n",
      "8              owl           chisel          onion\n",
      "9          peacock             corn           pear\n",
      "10         penguin              cow      pineapple\n",
      "11             pig              cup         potato\n",
      "12           snail              dog               \n",
      "13            swan             duck           boat\n",
      "14          turtle            eagle           bowl\n",
      "15                         elephant            car\n",
      "16          banana           hammer            cat\n",
      "17          cherry       helicopter        chicken\n",
      "18            corn           kettle         chisel\n",
      "19         lettuce            knife            cow\n",
      "20        mushroom          lettuce            dog\n",
      "21           onion             lion           duck\n",
      "22            pear       motorcycle          eagle\n",
      "23       pineapple         mushroom       elephant\n",
      "24          potato            onion         hammer\n",
      "25                              owl     helicopter\n",
      "26          pencil          peacock          knife\n",
      "27                             pear           lion\n",
      "28            boat              pen     motorcycle\n",
      "29             car           pencil            owl\n",
      "30      motorcycle          penguin        peacock\n",
      "31            ship              pig            pen\n",
      "32           truck        pineapple        penguin\n",
      "33                           potato            pig\n",
      "34          chisel           rocket         rocket\n",
      "35          hammer         scissors       scissors\n",
      "36      helicopter      screwdriver    screwdriver\n",
      "37          kettle             ship           ship\n",
      "38           knife            snail          snail\n",
      "39          rocket            spoon          spoon\n",
      "40        scissors             swan           swan\n",
      "41     screwdriver        telephone          truck\n",
      "42                            truck         turtle\n",
      "43          bottle           turtle               \n",
      "44            bowl                          kettle\n",
      "45             cup                                \n",
      "46             pen                          pencil\n",
      "47           spoon                                \n",
      "48       telephone                       telephone\n",
      "49                                                \n"
     ]
    }
   ],
   "source": [
    "#print(human_classification_names)\n",
    "#print(matrix1_mcrae)\n",
    "#print_clusters(words1, bncclusterx)\n",
    "#print_clusters(words1, bncclustery)\n",
    "#print(print_clusters1(words1, bncclusterx))\n",
    "#print_clusters(words1, bncclusterz)\n",
    "cluster_output = pd.DataFrame({ 'single cluster':print_clusters1(words1, bncclusterx), 'complete cluster':print_clusters1(words1, bncclustery), 'average cluster':print_clusters1(words1, bncclusterz)})\n",
    "print(cluster_output)\n",
    "#print_clusters(words1, mcclusterx)\n",
    "#print_clusters(words1, mcclustery)\n",
    "#print_clusters(words1, mcclusterz)\n",
    "cluster_output = pd.DataFrame({ 'single cluster':print_clusters1(words1, mcclusterx), 'complete cluster':print_clusters1(words1, mcclustery), 'average cluster':print_clusters1(words1, mcclusterz)})\n",
    "print(cluster_output)"
   ]
  },
  {
   "cell_type": "markdown",
   "metadata": {
    "deletable": false,
    "editable": false,
    "nbgrader": {
     "checksum": "81169f5bc451ed221327a981f3034058",
     "grade": false,
     "grade_id": "cell-62df8c9505d66ad6",
     "locked": true,
     "schema_version": 1,
     "solution": false
    }
   },
   "source": [
    "Can you draw any conclusions regarding which semantic space representation (BNC vs McRae) and which clustering criterion works best? Discuss below."
   ]
  },
  {
   "cell_type": "markdown",
   "metadata": {
    "deletable": false,
    "nbgrader": {
     "checksum": "a5c7b2a087b137016c51bd246dc8d9e9",
     "grade": true,
     "grade_id": "cell-ec1ba2a62368da78",
     "locked": false,
     "points": 5,
     "schema_version": 1,
     "solution": true
    }
   },
   "source": [
    ">Regarding BNC the complete cluster appears to work best as it groups the words into five logical clusters consisting of 'vehicles', 'food', 'tools', 'cutlery' and 'animals'. One of the clusters does not follow much of a patters and there are a few mistakes in the clusters, for example 'telephone' being paired with other animals, but overall the clustering is very good.\n",
    "\n",
    ">For McRae the clustering that works best is the average cluster. Once again, five logical clusters are created, 'animals', 'food', 'vehicles', 'tools' and 'cutlery' with 'pencil' being in a cluster on it's own. \n",
    "\n",
    ">Overall I would say that the best overall representation is the McRae average clusters as it appears to have the most words grouped together in a sensible manner."
   ]
  },
  {
   "cell_type": "markdown",
   "metadata": {
    "deletable": false,
    "editable": false,
    "nbgrader": {
     "checksum": "f344edc04a83f4dabd76fcb1b9333d4f",
     "grade": false,
     "grade_id": "cell-856d8b7160d5c768",
     "locked": true,
     "schema_version": 1,
     "solution": false
    }
   },
   "source": [
    "# Task 2: Exemplar-based Model\n",
    "In this task you will identify the semantic category of new words based on established categories of known words. You will do this by building an **exemplar-based model** that identifies the category of each new word by comparing it with known exemplars, again on the basis of their semantic space representations. Specifically, the model determines the category of a new word as follows:\n",
    "\n",
    "- It measures the new word's pairwise similarity to all known exemplars. This is done by computing the cosine similarity (i.e., cosine of the angle) between the new word’s vector representation and the vector representation of each known exemplar.\n",
    "\n",
    "\n",
    "- It then assigns the new word the category of the exemplar that yielded the highest similarity score.\n",
    "\n",
    "\n",
    "In Task 1, you worked with the known exemplars. \n",
    "The data for Task 2 contains the new target words you want to find categories for. In this task you will additionally use the files **categorynames.csv** and **categoryindices.csv** which lists the semantic category of every target word in the Task1. \n",
    "\n",
    "The categories (obtained from [here](http://wordspace.collocations.de/doku.php/data:esslli2008:concrete_%20nouns_categorization)) are six in total (e.g., bird-animalnatural,vehicle-artifact-artifact). They are organised hierarchically: from top classes (i.e. artifact and natural) to more finegrained categories (e.g. groundAnimal or fruitTree).\n",
    "\n",
    "**category_names** (corresponding to the **categorynames.csv** file) is a column vector with one category name per row and **category_indices** (corresponding to the **categoryindices.csv** file) is a column vector which indexes each target word in **words1** with a category number ranging from 1 to 6. The index itself corresponds to the row number in **categorynames**."
   ]
  },
  {
   "cell_type": "code",
   "execution_count": 287,
   "metadata": {
    "collapsed": true
   },
   "outputs": [],
   "source": [
    "# We import the different files for task 2\n",
    "words2 = pd.read_csv(\"./words2.csv\", index_col=0).values.flatten()\n",
    "feats_mcrae = pd.read_csv(\"./feats_mcrae.csv\", index_col=0).values.flatten()\n",
    "matrix2_mcrae = pd.read_csv(\"./matrix2_mcrae.csv\", index_col=0).as_matrix()\n",
    "matrix2_bnc = pd.read_csv(\"./matrix2_bnc.csv\", index_col=0).as_matrix()"
   ]
  },
  {
   "cell_type": "code",
   "execution_count": 288,
   "metadata": {},
   "outputs": [
    {
     "name": "stdout",
     "output_type": "stream",
     "text": [
      "['airplane' 'bathtub' 'belt' 'blueberry' 'broccoli' 'calf' 'hawk' 'dagger'\n",
      " 'fork' 'guitar' 'house' 'missile' 'razor' 'salmon' 'tank' 'worm']\n",
      "[[ 0  0  0 ...,  0  0  0]\n",
      " [ 0  0  0 ...,  0  0  0]\n",
      " [16 17 19 ...,  0  0  0]\n",
      " ..., \n",
      " [12 20 29 ...,  0  0  0]\n",
      " [26 19 38 ...,  0  0  0]\n",
      " [ 9  6  8 ...,  0  0  0]]\n"
     ]
    }
   ],
   "source": [
    "print(words2)\n",
    "print(matrix2_bnc)"
   ]
  },
  {
   "cell_type": "code",
   "execution_count": 289,
   "metadata": {
    "collapsed": true
   },
   "outputs": [],
   "source": [
    "# we import the files relating to **categories**\n",
    "category_names = pd.read_csv(\"./categorynames.csv\", index_col=0).values.flatten()\n",
    "category_indices = pd.read_csv(\"./categoryindices.csv\", index_col=0).values.flatten()"
   ]
  },
  {
   "cell_type": "code",
   "execution_count": 290,
   "metadata": {},
   "outputs": [
    {
     "name": "stdout",
     "output_type": "stream",
     "text": [
      "['bird-animal-natural' 'fruitTree-vegetable-natural'\n",
      " 'green-vegetable-natural' 'groundAnimal-animal-natural'\n",
      " 'tool-artifact-artifact' 'vehicle-artifact-artifact']\n",
      "[1 5 4 4 5 3 1 0 4 2 3 4 3 0 0 3 4 5 4 4 2 3 5 2 2 0 0 1 4 4 0 3 1 2 5 4 4\n",
      " 5 3 4 0 4 5 3]\n",
      "44\n"
     ]
    }
   ],
   "source": [
    "print(category_names)\n",
    "print(category_indices)\n",
    "print(np.size(category_indices))"
   ]
  },
  {
   "cell_type": "markdown",
   "metadata": {},
   "source": [
    "## Question 5 (15%)\n",
    "Implement the exemplar-based model as described above. Apply your implementation to predict the categories for the new words in words2, using the\n",
    "vector space from McRae et al.’s data. Inspect the output of your model manually. Based on your intuitions discuss which words you think were correctly classified, and which ones\n",
    "weren’t. Can you think of an explanation for the classifications and misclassifications?"
   ]
  },
  {
   "cell_type": "code",
   "execution_count": 291,
   "metadata": {
    "collapsed": true,
    "deletable": false,
    "nbgrader": {
     "checksum": "8ad9dfdb2f1ef45f204ef5ff7dbb0795",
     "grade": true,
     "grade_id": "cell-c8c8d78725958e96",
     "locked": false,
     "points": 3,
     "schema_version": 1,
     "solution": true
    }
   },
   "outputs": [],
   "source": [
    "# first implement the cosine similarity function\n",
    "def cosine_sim(M1,M2):\n",
    "    # implement computation of cosine similarity between M1 and M2 here\n",
    "    similarity = np.dot(M1,M2)/(np.linalg.norm(M1)*np.linalg.norm(M2))\n",
    "    return similarity"
   ]
  },
  {
   "cell_type": "code",
   "execution_count": 292,
   "metadata": {},
   "outputs": [
    {
     "name": "stdout",
     "output_type": "stream",
     "text": [
      "['airplane' 'bathtub' 'belt' 'blueberry' 'broccoli' 'calf' 'hawk' 'dagger'\n",
      " 'fork' 'guitar' 'house' 'missile' 'razor' 'salmon' 'tank' 'worm']\n"
     ]
    }
   ],
   "source": [
    "print(words2)"
   ]
  },
  {
   "cell_type": "code",
   "execution_count": 300,
   "metadata": {
    "deletable": false,
    "nbgrader": {
     "checksum": "5fd5d7d5e74dff458c677546cfc67096",
     "grade": true,
     "grade_id": "cell-9e344235efb0135a",
     "locked": false,
     "points": 10,
     "schema_version": 1,
     "solution": true
    }
   },
   "outputs": [],
   "source": [
    "# Implement the exemplar-based categorisation model here. \n",
    "def exemplar_model(exemplar_matrix, target_matrix, words2categorise):    \n",
    "    predictedCatIndices = [] \n",
    "    \n",
    "    for index1 in range(0,16):\n",
    "        x=0\n",
    "        for index2 in range(0,43):\n",
    "            if cosine_sim(target_matrix[index1],exemplar_matrix[index2]) > cosine_sim(target_matrix[index1],exemplar_matrix[x]):\n",
    "                x = index2\n",
    "    \n",
    "        predictedCatIndices.append(x)\n",
    "    \n",
    "    return predictedCatIndices"
   ]
  },
  {
   "cell_type": "markdown",
   "metadata": {
    "deletable": false,
    "editable": false,
    "nbgrader": {
     "checksum": "6fd9345abe82584513cc312be6ae8b95",
     "grade": false,
     "grade_id": "cell-aa953ac4d385cb21",
     "locked": true,
     "schema_version": 1,
     "solution": false
    }
   },
   "source": [
    "## Question 6  (10%)\n",
    "Use your exemplar model to predict the categories for the new words, this time with the vector space constructed from the BNC. \n"
   ]
  },
  {
   "cell_type": "code",
   "execution_count": 302,
   "metadata": {
    "deletable": false,
    "nbgrader": {
     "checksum": "6606a6122bea113512a02ee5c5a8cf74",
     "grade": true,
     "grade_id": "cell-dd087b53b660b2d4",
     "locked": false,
     "points": 5,
     "schema_version": 1,
     "solution": true
    }
   },
   "outputs": [
    {
     "name": "stdout",
     "output_type": "stream",
     "text": [
      "                       category       word\n",
      "0     vehicle-artifact-artifact   airplane\n",
      "1        tool-artifact-artifact    bathtub\n",
      "2     vehicle-artifact-artifact       belt\n",
      "3           bird-animal-natural  blueberry\n",
      "4       green-vegetable-natural   broccoli\n",
      "5   groundAnimal-animal-natural       calf\n",
      "6     vehicle-artifact-artifact       hawk\n",
      "7        tool-artifact-artifact     dagger\n",
      "8        tool-artifact-artifact       fork\n",
      "9        tool-artifact-artifact     guitar\n",
      "10    vehicle-artifact-artifact      house\n",
      "11    vehicle-artifact-artifact    missile\n",
      "12       tool-artifact-artifact      razor\n",
      "13          bird-animal-natural     salmon\n",
      "14       tool-artifact-artifact       tank\n",
      "15          bird-animal-natural       worm\n"
     ]
    }
   ],
   "source": [
    "words2cat = []\n",
    "x = exemplar_model(matrix1_bnc, matrix2_bnc, category_indices)\n",
    "\n",
    "for index in range (0,16):\n",
    "    words2cat.append(category_names[category_indices[x[index]]])\n",
    "    \n",
    "exemplar_output = pd.DataFrame({'word':words2, 'category':words2cat})\n",
    "print(exemplar_output)"
   ]
  },
  {
   "cell_type": "markdown",
   "metadata": {
    "deletable": false,
    "editable": false,
    "nbgrader": {
     "checksum": "04aa29faee3da822b53c5a7faf6c2688",
     "grade": false,
     "grade_id": "cell-5f36d6e4035c3f19",
     "locked": true,
     "schema_version": 1,
     "solution": false
    }
   },
   "source": [
    "# Which words were correctly classified, and which ones weren’t?  \n",
    "Can you think of an explanation for the classifications and misclassifications?"
   ]
  },
  {
   "cell_type": "code",
   "execution_count": 308,
   "metadata": {},
   "outputs": [
    {
     "name": "stdout",
     "output_type": "stream",
     "text": [
      "['banana' 'boat' 'bottle' 'bowl' 'car' 'cat' 'cherry' 'chicken' 'chisel'\n",
      " 'corn' 'cow' 'cup' 'dog' 'duck' 'eagle' 'elephant' 'hammer' 'helicopter'\n",
      " 'kettle' 'knife' 'lettuce' 'lion' 'motorcycle' 'mushroom' 'onion' 'owl'\n",
      " 'peacock' 'pear' 'pen' 'pencil' 'penguin' 'pig' 'pineapple' 'potato'\n",
      " 'rocket' 'scissors' 'screwdriver' 'ship' 'snail' 'spoon' 'swan'\n",
      " 'telephone' 'truck' 'turtle']\n",
      "['airplane' 'bathtub' 'belt' 'blueberry' 'broccoli' 'calf' 'hawk' 'dagger'\n",
      " 'fork' 'guitar' 'house' 'missile' 'razor' 'salmon' 'tank' 'worm']\n"
     ]
    }
   ],
   "source": [
    "print(words1)\n",
    "print(words2)"
   ]
  },
  {
   "cell_type": "markdown",
   "metadata": {
    "deletable": false,
    "nbgrader": {
     "checksum": "2d4b679f9fc0a994d8c10af1c06b0424",
     "grade": true,
     "grade_id": "cell-c3ec22359ca16762",
     "locked": false,
     "points": 5,
     "schema_version": 1,
     "solution": true
    }
   },
   "source": [
    ">'airplane', 'bathtub', 'broccoli', 'calf', 'dagger', 'fork', 'guitar', 'razor' and 'tank' were all classified correctly.\n",
    ">'airplane' is quite similar to a helicopter which might explain why it was correctly classified. 'broccoli' is similar to 'corn', 'lettuce', 'mushroom', 'onion' and 'potato'. 'calf' was correctly related most likely because of 'cow' as they are the same animal. 'fork', 'dagger' and 'razor' were correctly classified due to 'knife' and 'spoon' in words1. \n",
    "\n",
    ">'belt', 'blueberry', 'hawk', 'house', 'missile', 'salmon', 'worm'\n",
    ">It appears that 'blueberry', 'salmon' and 'worm' were all misclassified as birds and this could possibly be because they are all food that birds eat, therefore making them related to birds and there are no fish, berries or small animals in words1 that these words could have been matched with. 'hawk' could have been misclassified because of how fast they travel relative to other animals, making them similar to the speed of vehicles. 'missile' could also have been misclassified for a similar reason because it travels in the air, similarly to a rocket or helicopter, and move very quickly. "
   ]
  },
  {
   "cell_type": "markdown",
   "metadata": {
    "deletable": false,
    "editable": false,
    "nbgrader": {
     "checksum": "5914df925987957597727be255508fd1",
     "grade": false,
     "grade_id": "cell-af887321dad3bdb6",
     "locked": true,
     "schema_version": 1,
     "solution": false
    }
   },
   "source": [
    "## Question 7 (15%) \n",
    "Implement the Manhattan distance function. The [Manhattan distance](https://en.wikipedia.org/wiki/Taxicab_geometry) is the sum of absolute differences between points : \n",
    "$ \\sum_{i=1}^{N} |x_i-y_i| $, where $x_i$ and $y_i$ are individual dimensions of vector $\\mathbf{x}$ and $\\mathbf{y}$, each of length $N$."
   ]
  },
  {
   "cell_type": "code",
   "execution_count": 303,
   "metadata": {
    "collapsed": true
   },
   "outputs": [],
   "source": [
    "def manhattan_dist(M1,M2):\n",
    "    x=0\n",
    "    for i in range(0,np.size(M1)):\n",
    "        x += abs(M1[i]-M2[i])\n",
    "    return x"
   ]
  },
  {
   "cell_type": "code",
   "execution_count": 337,
   "metadata": {
    "collapsed": true,
    "deletable": false,
    "nbgrader": {
     "checksum": "2899eafc3c9b485296eb862a841a932f",
     "grade": true,
     "grade_id": "cell-eca73a9152b8623f",
     "locked": false,
     "points": 5,
     "schema_version": 1,
     "solution": true
    }
   },
   "outputs": [],
   "source": [
    "def manhattan_model(exemplar_matrix, target_matrix, words2categorise):    \n",
    "    predictedCatIndices = [] \n",
    "    \n",
    "    for index1 in range(0,16):\n",
    "        x=0\n",
    "        for index2 in range(0,43):\n",
    "            if manhattan_dist(target_matrix[index1],exemplar_matrix[index2]) <  manhattan_dist(target_matrix[index1],exemplar_matrix[x]):\n",
    "                x = index2\n",
    "    \n",
    "        predictedCatIndices.append(x)\n",
    "    \n",
    "    return predictedCatIndices"
   ]
  },
  {
   "cell_type": "code",
   "execution_count": 338,
   "metadata": {},
   "outputs": [
    {
     "name": "stdout",
     "output_type": "stream",
     "text": [
      "                       category       word\n",
      "0        tool-artifact-artifact   airplane\n",
      "1        tool-artifact-artifact    bathtub\n",
      "2        tool-artifact-artifact       belt\n",
      "3        tool-artifact-artifact  blueberry\n",
      "4        tool-artifact-artifact   broccoli\n",
      "5        tool-artifact-artifact       calf\n",
      "6        tool-artifact-artifact       hawk\n",
      "7        tool-artifact-artifact     dagger\n",
      "8        tool-artifact-artifact       fork\n",
      "9        tool-artifact-artifact     guitar\n",
      "10    vehicle-artifact-artifact      house\n",
      "11    vehicle-artifact-artifact    missile\n",
      "12       tool-artifact-artifact      razor\n",
      "13  fruitTree-vegetable-natural     salmon\n",
      "14    vehicle-artifact-artifact       tank\n",
      "15       tool-artifact-artifact       worm\n"
     ]
    }
   ],
   "source": [
    "words2cat = []\n",
    "y = manhattan_model(matrix1_bnc, matrix2_bnc, category_indices)\n",
    "for index in range (0,16):\n",
    "    words2cat.append(category_names[category_indices[y[index]]])\n",
    "manhattan_output = pd.DataFrame({'word':words2, 'category':words2cat})\n",
    "print(manhattan_output)"
   ]
  },
  {
   "cell_type": "code",
   "execution_count": 326,
   "metadata": {},
   "outputs": [
    {
     "name": "stdout",
     "output_type": "stream",
     "text": [
      "\n",
      "[0 0 2 ..., 0 0 0]\n",
      "[0 0 0 ..., 0 0 0]\n",
      "tool-artifact-artifact\n",
      "1828\n",
      "[95 68 50 ...,  0  0  0]\n",
      "[0 0 0 ..., 0 0 0]\n",
      "vehicle-artifact-artifact\n"
     ]
    }
   ],
   "source": [
    "print()\n",
    "print(matrix1_bnc[8])\n",
    "print(matrix1_mcrae[8])\n",
    "print(category_names[category_indices[8]])\n",
    "print(np.dot(matrix1_bnc[8],matrix1_bnc[8]))\n",
    "print(matrix1_bnc[1])\n",
    "print(matrix1_mcrae[1])\n",
    "print(category_names[category_indices[1]])"
   ]
  },
  {
   "cell_type": "code",
   "execution_count": 306,
   "metadata": {},
   "outputs": [
    {
     "name": "stdout",
     "output_type": "stream",
     "text": [
      "                       category       word\n",
      "0           bird-animal-natural   airplane\n",
      "1           bird-animal-natural    bathtub\n",
      "2        tool-artifact-artifact       belt\n",
      "3   fruitTree-vegetable-natural  blueberry\n",
      "4       green-vegetable-natural   broccoli\n",
      "5   groundAnimal-animal-natural       calf\n",
      "6           bird-animal-natural       hawk\n",
      "7        tool-artifact-artifact     dagger\n",
      "8        tool-artifact-artifact       fork\n",
      "9        tool-artifact-artifact     guitar\n",
      "10    vehicle-artifact-artifact      house\n",
      "11    vehicle-artifact-artifact    missile\n",
      "12       tool-artifact-artifact      razor\n",
      "13          bird-animal-natural     salmon\n",
      "14    vehicle-artifact-artifact       tank\n",
      "15  groundAnimal-animal-natural       worm\n"
     ]
    }
   ],
   "source": [
    "words2cat = []\n",
    "x = exemplar_model(matrix1_mcrae, matrix2_mcrae, category_indices)\n",
    "for index in range (0,16):\n",
    "    words2cat.append(category_names[category_indices[x[index]]])\n",
    "exemplar_output = pd.DataFrame({ 'word':words2, 'category':words2cat})\n",
    "print(exemplar_output)"
   ]
  },
  {
   "cell_type": "code",
   "execution_count": 307,
   "metadata": {},
   "outputs": [
    {
     "name": "stdout",
     "output_type": "stream",
     "text": [
      "                       category       word\n",
      "0     vehicle-artifact-artifact   airplane\n",
      "1        tool-artifact-artifact    bathtub\n",
      "2     vehicle-artifact-artifact       belt\n",
      "3   fruitTree-vegetable-natural  blueberry\n",
      "4       green-vegetable-natural   broccoli\n",
      "5   groundAnimal-animal-natural       calf\n",
      "6           bird-animal-natural       hawk\n",
      "7        tool-artifact-artifact     dagger\n",
      "8        tool-artifact-artifact       fork\n",
      "9        tool-artifact-artifact     guitar\n",
      "10    vehicle-artifact-artifact      house\n",
      "11    vehicle-artifact-artifact    missile\n",
      "12       tool-artifact-artifact      razor\n",
      "13       tool-artifact-artifact     salmon\n",
      "14    vehicle-artifact-artifact       tank\n",
      "15    vehicle-artifact-artifact       worm\n"
     ]
    }
   ],
   "source": [
    "words2cat = []\n",
    "y = manhattan_model(matrix1_mcrae, matrix2_mcrae, category_indices)\n",
    "for index in range (0,16):\n",
    "    words2cat.append(category_names[category_indices[y[index]]])\n",
    "manhattan_output = pd.DataFrame({'word':words2, 'category':words2cat})\n",
    "print(manhattan_output)"
   ]
  },
  {
   "cell_type": "markdown",
   "metadata": {
    "deletable": false,
    "editable": false,
    "nbgrader": {
     "checksum": "a9a2cbee951900a9ee102b75477fadd1",
     "grade": false,
     "grade_id": "cell-d55148de4f3e6e96",
     "locked": true,
     "schema_version": 1,
     "solution": false
    }
   },
   "source": [
    "a) How does the cosine similarity differ from the Manhattan distance similarity? Give a pair of vectors that are close according to cosine distance but far according to Manhattan distance."
   ]
  },
  {
   "cell_type": "code",
   "execution_count": 312,
   "metadata": {},
   "outputs": [
    {
     "name": "stdout",
     "output_type": "stream",
     "text": [
      "1.0\n",
      "297\n"
     ]
    }
   ],
   "source": [
    "print(cosine_sim([1,1,1],[100,100,100]))\n",
    "print((manhattan_dist([1,1,1],[100,100,100])))"
   ]
  },
  {
   "cell_type": "markdown",
   "metadata": {
    "deletable": false,
    "nbgrader": {
     "checksum": "3e5f48be8b2e0b9b097e29d19e568f00",
     "grade": true,
     "grade_id": "cell-200bf51bf1f78801",
     "locked": false,
     "points": 5,
     "schema_version": 1,
     "solution": true
    }
   },
   "source": [
    ">The cosine similarity is a measure of the angle between vectors while the Manhattan distance similarity is a measure of the distance between vectors. An example would be the vectors [1,1,1] and [100,100,100]."
   ]
  },
  {
   "cell_type": "markdown",
   "metadata": {},
   "source": [
    "b) Look at the differences in classification for the McRae and BNC data when using the two different distance measures. "
   ]
  },
  {
   "cell_type": "markdown",
   "metadata": {
    "deletable": false,
    "nbgrader": {
     "checksum": "c091199ede8258360e3bd86532b01ec3",
     "grade": true,
     "grade_id": "cell-f95bc2ccd81420a3",
     "locked": false,
     "points": 3,
     "schema_version": 1,
     "solution": true
    }
   },
   "source": [
    ">For BNC the Manhattan similarity classified most of the words as tools. In contrast the cosine similarity did a better job at classifying the words but did still make a number of mistakes, though the misclassified words did have a wide range of categories compared to the Manhattan similarity.\n",
    "\n",
    ">With McRae the two results are quite similar when compared to BNC. The Manhattan similarity performed better than with BNC but did still label a large number of words as tools. The cosine similarity performed well, only misclassifying five words.\n",
    "\n",
    ">In all four 'house' and 'missile' were both misclassified as vehicles."
   ]
  },
  {
   "cell_type": "markdown",
   "metadata": {
    "collapsed": true,
    "deletable": false,
    "editable": false,
    "nbgrader": {
     "checksum": "54a5ad11de0d16862d8bc98ce26c732d",
     "grade": false,
     "grade_id": "cell-44302a0dd05ffb49",
     "locked": true,
     "schema_version": 1,
     "solution": false
    }
   },
   "source": [
    "Try to explain the differences in classification."
   ]
  },
  {
   "cell_type": "markdown",
   "metadata": {
    "deletable": false,
    "nbgrader": {
     "checksum": "dba8259f997b012f28026dbdd7b452a8",
     "grade": true,
     "grade_id": "cell-99088ddfe188ed00",
     "locked": false,
     "points": 2,
     "schema_version": 1,
     "solution": true
    }
   },
   "source": [
    ">The Manhattan similarity misclassifying many words as tools with McRae and BNC is likely due to the large number of zeros in the tool's vectors which would make the similarity very large. This fact about the tool's vectors would not effect the cosine similarity as it is only depends on direction."
   ]
  },
  {
   "cell_type": "markdown",
   "metadata": {
    "deletable": false,
    "editable": false,
    "nbgrader": {
     "checksum": "14f9ce90557f3d50f9dcae8c5483cae1",
     "grade": false,
     "grade_id": "cell-380c8a3b03284007",
     "locked": true,
     "schema_version": 1,
     "solution": false
    }
   },
   "source": [
    "## Question 8 (15%)\n",
    "Compare the predictions of the two semantic spaces. Which semantic space is better at inferring the categories of the new words? What limitations do you see with these representations? Can you think of ways to overcome them?"
   ]
  },
  {
   "cell_type": "markdown",
   "metadata": {
    "deletable": false,
    "nbgrader": {
     "checksum": "dee6b4c535a62d96ad6d7c9d69c7e3a4",
     "grade": true,
     "grade_id": "cell-cc5e6c8baf8ffbd2",
     "locked": false,
     "points": 15,
     "schema_version": 1,
     "solution": true
    }
   },
   "source": [
    ">McRae is better at inferring categories of new words as it had fewer mistakes with both similarity functions.\n",
    "\n",
    ">Human error could influence the predictions when using McRae as it was humans thinking of categories for words. The categories that the words are assigned are quite generic and limited and some words may not fit any of the categories at all, a wider selection of categories could be created. Although, a potential probelm with a wider selection of more specific categories is that it could potentially lead to a significant increase in the number of incorrect predictions."
   ]
  },
  {
   "cell_type": "markdown",
   "metadata": {},
   "source": [
    "# More info\n",
    "\n",
    "\n",
    "For more info about scipy, hierarchical clustering and matplotlib:\n",
    "- [1] https://docs.scipy.org/doc/numpy-dev/user/quickstart.html\n",
    "- [2] https://docs.scipy.org/doc/scipy-0.18.1/reference/cluster.hierarchy.html\n",
    "- [3] http://matplotlib.org/"
   ]
  },
  {
   "cell_type": "markdown",
   "metadata": {},
   "source": [
    "<a id='References'></a>\n",
    "# References\n",
    "\n",
    "[1] K. McRae, G.S. Cree, M.S. Seidenberg, C. McNorgan. 2005. Semantic Feature Production\n",
    "Norms for a Large Set of Living and Nonliving Things. Behavior Research\n",
    "Methods, 37(4):547–59.\n",
    "\n",
    "\n",
    "[2] The British National Corpus, version 3 (BNC XML Edition). 2007. Distributed by\n",
    "Oxford University Computing Services on behalf of the BNC Consortium. http:\n",
    "//www.natcorp.ox.ac.uk/."
   ]
  }
 ],
 "metadata": {
  "hide_input": false,
  "kernelspec": {
   "display_name": "Python 3",
   "language": "python",
   "name": "python3"
  },
  "language_info": {
   "codemirror_mode": {
    "name": "ipython",
    "version": 3
   },
   "file_extension": ".py",
   "mimetype": "text/x-python",
   "name": "python",
   "nbconvert_exporter": "python",
   "pygments_lexer": "ipython3",
   "version": "3.5.4"
  }
 },
 "nbformat": 4,
 "nbformat_minor": 2
}

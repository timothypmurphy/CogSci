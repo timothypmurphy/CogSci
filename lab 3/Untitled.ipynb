{
 "cells": [
  {
   "cell_type": "code",
   "execution_count": 19,
   "metadata": {},
   "outputs": [
    {
     "data": {
      "text/plain": [
       "array([[[ 1.,  1.,  1.]],\n",
       "\n",
       "       [[ 1.,  1.,  1.]],\n",
       "\n",
       "       [[ 1.,  1.,  1.]]])"
      ]
     },
     "execution_count": 19,
     "metadata": {},
     "output_type": "execute_result"
    }
   ],
   "source": [
    "from array import array\n",
    "import numpy\n",
    "arrayOnes = numpy.array([[numpy.ones(3)],[numpy.ones(3)],[numpy.ones(3)]])\n",
    "arrayOnes"
   ]
  },
  {
   "cell_type": "code",
   "execution_count": 20,
   "metadata": {},
   "outputs": [
    {
     "data": {
      "text/plain": [
       "[array([ 0.,  0.]),\n",
       " array([ 0.,  0.]),\n",
       " array([ 0.,  0.]),\n",
       " array([ 0.,  0.]),\n",
       " array([ 0.,  0.]),\n",
       " array([ 0.,  0.]),\n",
       " array([ 0.,  0.])]"
      ]
     },
     "execution_count": 20,
     "metadata": {},
     "output_type": "execute_result"
    }
   ],
   "source": [
    "from array import array\n",
    "import numpy\n",
    "array72 = [numpy.zeros(2),numpy.zeros(2),numpy.zeros(2),numpy.zeros(2),numpy.zeros(2),numpy.zeros(2),numpy.zeros(2)]\n",
    "array72"
   ]
  },
  {
   "cell_type": "code",
   "execution_count": 25,
   "metadata": {},
   "outputs": [
    {
     "data": {
      "text/plain": [
       "array([ 0,  1,  2,  3,  4,  5,  6,  7,  8,  9, 10, 11, 12, 13, 14, 15, 16,\n",
       "       17, 18, 19, 20, 21, 22, 23, 24])"
      ]
     },
     "execution_count": 25,
     "metadata": {},
     "output_type": "execute_result"
    }
   ],
   "source": [
    "array25 = numpy.arange(0,25,1,dtype=int)\n",
    "array25"
   ]
  },
  {
   "cell_type": "code",
   "execution_count": 26,
   "metadata": {},
   "outputs": [
    {
     "data": {
      "text/plain": [
       "array([   0.        ,    4.16666667,    8.33333333,   12.5       ,\n",
       "         16.66666667,   20.83333333,   25.        ,   29.16666667,\n",
       "         33.33333333,   37.5       ,   41.66666667,   45.83333333,\n",
       "         50.        ,   54.16666667,   58.33333333,   62.5       ,\n",
       "         66.66666667,   70.83333333,   75.        ,   79.16666667,\n",
       "         83.33333333,   87.5       ,   91.66666667,   95.83333333,  100.        ])"
      ]
     },
     "execution_count": 26,
     "metadata": {},
     "output_type": "execute_result"
    }
   ],
   "source": [
    "array100 = numpy.linspace(0,100,25)\n",
    "array100"
   ]
  },
  {
   "cell_type": "code",
   "execution_count": 28,
   "metadata": {},
   "outputs": [
    {
     "data": {
      "text/plain": [
       "array([[[0, 0, 0, 0, 0],\n",
       "        [1, 1, 1, 1, 1],\n",
       "        [2, 2, 2, 2, 2],\n",
       "        [3, 3, 3, 3, 3],\n",
       "        [4, 4, 4, 4, 4]],\n",
       "\n",
       "       [[0, 1, 2, 3, 4],\n",
       "        [0, 1, 2, 3, 4],\n",
       "        [0, 1, 2, 3, 4],\n",
       "        [0, 1, 2, 3, 4],\n",
       "        [0, 1, 2, 3, 4]]])"
      ]
     },
     "execution_count": 28,
     "metadata": {},
     "output_type": "execute_result"
    }
   ],
   "source": [
    "arrayMesh = numpy.mgrid[0:5,0:5]\n",
    "arrayMesh"
   ]
  },
  {
   "cell_type": "code",
   "execution_count": 31,
   "metadata": {},
   "outputs": [
    {
     "ename": "SyntaxError",
     "evalue": "can't assign to function call (<ipython-input-31-73758811b629>, line 2)",
     "output_type": "error",
     "traceback": [
      "\u001b[1;36m  File \u001b[1;32m\"<ipython-input-31-73758811b629>\"\u001b[1;36m, line \u001b[1;32m2\u001b[0m\n\u001b[1;33m    array5(0,0) = 1\u001b[0m\n\u001b[1;37m                   ^\u001b[0m\n\u001b[1;31mSyntaxError\u001b[0m\u001b[1;31m:\u001b[0m can't assign to function call\n"
     ]
    }
   ],
   "source": [
    "array5 = [numpy.zeros(5),numpy.zeros(5),numpy.zeros(5),numpy.zeros(5),numpy.zeros(5)]\n",
    "array5[0,0] = 1\n",
    "array5[1,1] = 2\n",
    "array5\n"
   ]
  }
 ],
 "metadata": {
  "kernelspec": {
   "display_name": "Python 3",
   "language": "python",
   "name": "python3"
  },
  "language_info": {
   "codemirror_mode": {
    "name": "ipython",
    "version": 3
   },
   "file_extension": ".py",
   "mimetype": "text/x-python",
   "name": "python",
   "nbconvert_exporter": "python",
   "pygments_lexer": "ipython3",
   "version": "3.5.4"
  }
 },
 "nbformat": 4,
 "nbformat_minor": 2
}
